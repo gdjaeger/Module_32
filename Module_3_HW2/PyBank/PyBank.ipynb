{
 "cells": [
  {
   "cell_type": "code",
   "execution_count": null,
   "id": "bde458e7",
   "metadata": {},
   "outputs": [],
   "source": []
  },
  {
   "cell_type": "code",
   "execution_count": 1,
   "id": "4ac3a22d",
   "metadata": {},
   "outputs": [
    {
     "name": "stdout",
     "output_type": "stream",
     "text": [
      "Financial Analysis\n",
      "----------------------------\n",
      "Total Months: 86\n",
      "Total: $22564198\n",
      "Average Change: $-8311.11\n",
      "Greatest Increase in Profits: Aug-16 ($1862002)\n",
      "Greatest Decrease in Profits: Feb-14 ($-1825558)\n",
      "Financial analysis has been saved to 'financial_analysis.txt'\n"
     ]
    }
   ],
   "source": [
    "# Initialize variables to store financial data\n",
    "total_months = 0\n",
    "total_profit_loss = 0\n",
    "previous_profit_loss = 0\n",
    "profit_loss_changes = []\n",
    "months = []\n",
    "\n",
    "# Read the CSV file\n",
    "file_path = 'Resources/budget_data.csv'\n",
    "with open(file_path, 'r') as file:\n",
    "    # Skip the header row\n",
    "    next(file)\n",
    "    \n",
    "    # Loop through each line in the file\n",
    "    for line in file:\n",
    "        # Split the line into fields\n",
    "        fields = line.strip().split(',')\n",
    "        \n",
    "        # Extract the date and profit/loss\n",
    "        date = fields[0]\n",
    "        profit_loss = int(fields[1])\n",
    "        \n",
    "        # Update total months and total profit/loss\n",
    "        total_months += 1\n",
    "        total_profit_loss += profit_loss\n",
    "        \n",
    "        # Calculate and store the profit/loss change\n",
    "        if total_months > 1:\n",
    "            profit_loss_change = profit_loss - previous_profit_loss\n",
    "            profit_loss_changes.append(profit_loss_change)\n",
    "            months.append(date)\n",
    "        \n",
    "        # Update the previous profit/loss for the next iteration\n",
    "        previous_profit_loss = profit_loss\n",
    "\n",
    "# Calculate the average change\n",
    "average_change = sum(profit_loss_changes) / len(profit_loss_changes)\n",
    "\n",
    "# Find the greatest increase and decrease in profits\n",
    "max_increase = max(profit_loss_changes)\n",
    "max_decrease = min(profit_loss_changes)\n",
    "max_increase_month = months[profit_loss_changes.index(max_increase)]\n",
    "max_decrease_month = months[profit_loss_changes.index(max_decrease)]\n",
    "\n",
    "# Print the financial analysis\n",
    "print(\"Financial Analysis\")\n",
    "print(\"-\" * 28)\n",
    "print(f\"Total Months: {total_months}\")\n",
    "print(f\"Total: ${total_profit_loss}\")\n",
    "print(f\"Average Change: ${average_change:.2f}\")\n",
    "print(f\"Greatest Increase in Profits: {max_increase_month} (${max_increase})\")\n",
    "print(f\"Greatest Decrease in Profits: {max_decrease_month} (${max_decrease})\")\n",
    "\n",
    "# Export the results to a text file\n",
    "output_path = 'financial_analysis.txt'\n",
    "with open(output_path, 'w') as f:\n",
    "    f.write(\"Financial Analysis\\n\")\n",
    "    f.write(\"-\" * 28 + \"\\n\")\n",
    "    f.write(f\"Total Months: {total_months}\\n\")\n",
    "    f.write(f\"Total: ${total_profit_loss}\\n\")\n",
    "    f.write(f\"Average Change: ${average_change:.2f}\\n\")\n",
    "    f.write(f\"Greatest Increase in Profits: {max_increase_month} (${max_increase})\\n\")\n",
    "    f.write(f\"Greatest Decrease in Profits: {max_decrease_month} (${max_decrease})\\n\")\n",
    "\n",
    "print(\"Financial analysis has been saved to 'financial_analysis.txt'\")\n"
   ]
  },
  {
   "cell_type": "code",
   "execution_count": null,
   "id": "2fcabd7b",
   "metadata": {},
   "outputs": [],
   "source": []
  },
  {
   "cell_type": "code",
   "execution_count": null,
   "id": "ea38dfb9",
   "metadata": {},
   "outputs": [],
   "source": []
  },
  {
   "cell_type": "code",
   "execution_count": null,
   "id": "2cbac808",
   "metadata": {},
   "outputs": [],
   "source": []
  }
 ],
 "metadata": {
  "kernelspec": {
   "display_name": "Python 3 (ipykernel)",
   "language": "python",
   "name": "python3"
  },
  "language_info": {
   "codemirror_mode": {
    "name": "ipython",
    "version": 3
   },
   "file_extension": ".py",
   "mimetype": "text/x-python",
   "name": "python",
   "nbconvert_exporter": "python",
   "pygments_lexer": "ipython3",
   "version": "3.10.9"
  }
 },
 "nbformat": 4,
 "nbformat_minor": 5
}
