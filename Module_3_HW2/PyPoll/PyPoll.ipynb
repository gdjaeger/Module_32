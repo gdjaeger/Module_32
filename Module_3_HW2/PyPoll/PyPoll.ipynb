{
 "cells": [
  {
   "cell_type": "code",
   "execution_count": 1,
   "id": "f57323af",
   "metadata": {},
   "outputs": [
    {
     "name": "stdout",
     "output_type": "stream",
     "text": [
      "Election Results\n",
      "-------------------------\n",
      "Total Votes: 369711\n",
      "-------------------------\n",
      "Charles Casper Stockham: 23.049% (85213)\n",
      "Diana DeGette: 73.812% (272892)\n",
      "Raymon Anthony Doane: 3.139% (11606)\n",
      "-------------------------\n",
      "Winner: Diana DeGette\n",
      "-------------------------\n",
      "Election results have been saved to 'election_results.txt'\n"
     ]
    }
   ],
   "source": [
    "# Initialize variables to store the data\n",
    "total_votes = 0\n",
    "candidate_votes = {}\n",
    "\n",
    "# Read the CSV file\n",
    "file_path = 'Resources/election_data.csv'\n",
    "with open(file_path, 'r') as file:\n",
    "    # Skip the header row\n",
    "    next(file)\n",
    "    \n",
    "    # Loop through each line in the file\n",
    "    for line in file:\n",
    "        # Split the line into fields\n",
    "        fields = line.strip().split(',')\n",
    "        \n",
    "        # Extract the candidate name\n",
    "        candidate = fields[2]\n",
    "        \n",
    "        # Update the total vote count\n",
    "        total_votes += 1\n",
    "        \n",
    "        # Update the candidate's vote count\n",
    "        if candidate in candidate_votes:\n",
    "            candidate_votes[candidate] += 1\n",
    "        else:\n",
    "            candidate_votes[candidate] = 1\n",
    "\n",
    "# Find the winner based on popular vote\n",
    "winner = max(candidate_votes, key=candidate_votes.get)\n",
    "\n",
    "# Print the election results\n",
    "print(\"Election Results\")\n",
    "print(\"-\" * 25)\n",
    "print(f\"Total Votes: {total_votes}\")\n",
    "print(\"-\" * 25)\n",
    "for candidate, votes in candidate_votes.items():\n",
    "    percentage = (votes / total_votes) * 100\n",
    "    print(f\"{candidate}: {percentage:.3f}% ({votes})\")\n",
    "print(\"-\" * 25)\n",
    "print(f\"Winner: {winner}\")\n",
    "print(\"-\" * 25)\n",
    "\n",
    "# Export the results to a text file\n",
    "output_path = 'election_results.txt'\n",
    "with open(output_path, 'w') as f:\n",
    "    f.write(\"Election Results\\n\")\n",
    "    f.write(\"-\" * 25 + \"\\n\")\n",
    "    f.write(f\"Total Votes: {total_votes}\\n\")\n",
    "    f.write(\"-\" * 25 + \"\\n\")\n",
    "    for candidate, votes in candidate_votes.items():\n",
    "        percentage = (votes / total_votes) * 100\n",
    "        f.write(f\"{candidate}: {percentage:.3f}% ({votes})\\n\")\n",
    "    f.write(\"-\" * 25 + \"\\n\")\n",
    "    f.write(f\"Winner: {winner}\\n\")\n",
    "    f.write(\"-\" * 25 + \"\\n\")\n",
    "\n",
    "print(\"Election results have been saved to 'election_results.txt'\")\n"
   ]
  },
  {
   "cell_type": "code",
   "execution_count": null,
   "id": "136f559c",
   "metadata": {},
   "outputs": [],
   "source": []
  }
 ],
 "metadata": {
  "kernelspec": {
   "display_name": "Python 3 (ipykernel)",
   "language": "python",
   "name": "python3"
  },
  "language_info": {
   "codemirror_mode": {
    "name": "ipython",
    "version": 3
   },
   "file_extension": ".py",
   "mimetype": "text/x-python",
   "name": "python",
   "nbconvert_exporter": "python",
   "pygments_lexer": "ipython3",
   "version": "3.10.9"
  }
 },
 "nbformat": 4,
 "nbformat_minor": 5
}
